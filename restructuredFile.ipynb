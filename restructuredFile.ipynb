{
 "cells": [
  {
   "cell_type": "markdown",
   "metadata": {},
   "source": [
    "**Data Mining Group 4 Jupyter Notebook**\n",
    "\n",
    "By: Assaf Bohen, Adrian Nica, TJ Jablonski"
   ]
  },
  {
   "cell_type": "code",
   "execution_count": 6,
   "metadata": {},
   "outputs": [],
   "source": [
    "import requests\n",
    "import zipfile\n",
    "import io\n",
    "import pandas as pd\n",
    "from urllib.parse import urlparse\n",
    "import os\n",
    "\n",
    "def download_and_extract_csv(zip_url):\n",
    "    \"\"\"\n",
    "    Downloads a ZIP file from `zip_url`, extracts the first .csv file found,\n",
    "    and returns it as a Pandas DataFrame.\n",
    "    \"\"\"\n",
    "    #determines if zip is found\n",
    "    response = requests.get(zip_url)\n",
    "    if response.status_code == 200:\n",
    "        zip_content = io.BytesIO(response.content)\n",
    "        \n",
    "        #extract csv files\n",
    "        with zipfile.ZipFile(zip_content, 'r') as zip_ref:\n",
    "            for file_name in zip_ref.namelist():\n",
    "                if file_name.endswith('.csv'):\n",
    "                    with zip_ref.open(file_name) as csv_file:\n",
    "                        df = pd.read_csv(csv_file)\n",
    "\n",
    "                        #print success\n",
    "                        parsed_url = urlparse(zip_url)\n",
    "                        print(f'Successfully extracted {file_name} from {os.path.basename(parsed_url.path)}')\n",
    "                        return df\n",
    "\n",
    "        #no csv files found\n",
    "        return None\n",
    "    else:\n",
    "        print(f\"Failed to retrieve ZIP from {zip_url}\")\n",
    "        return None"
   ]
  },
  {
   "cell_type": "code",
   "execution_count": 7,
   "metadata": {},
   "outputs": [
    {
     "name": "stdout",
     "output_type": "stream",
     "text": [
      "Successfully extracted survey_results_public.csv from stack-overflow-developer-survey-2024.zip\n",
      "Successfully extracted survey_results_public.csv from stack-overflow-developer-survey-2023.zip\n",
      "Successfully extracted survey_results_public.csv from stack-overflow-developer-survey-2022.zip\n"
     ]
    }
   ],
   "source": [
    "#urls to zip files\n",
    "csv_url_2024 = \"https://cdn.sanity.io/files/jo7n4k8s/production/262f04c41d99fea692e0125c342e446782233fe4.zip/stack-overflow-developer-survey-2024.zip\"\n",
    "csv_url_2023 = \"https://cdn.stackoverflow.co/files/jo7n4k8s/production/49915bfd46d0902c3564fd9a06b509d08a20488c.zip/stack-overflow-developer-survey-2023.zip\"\n",
    "csv_url_2022 = \"https://info.stackoverflowsolutions.com/rs/719-EMH-566/images/stack-overflow-developer-survey-2022.zip\"\n",
    "\n",
    "#download csv files\n",
    "odf_2024 = download_and_extract_csv(csv_url_2024)\n",
    "odf_2023 = download_and_extract_csv(csv_url_2023)\n",
    "odf_2022 = download_and_extract_csv(csv_url_2022)"
   ]
  },
  {
   "cell_type": "code",
   "execution_count": 10,
   "metadata": {},
   "outputs": [
    {
     "name": "stdout",
     "output_type": "stream",
     "text": [
      "   RESPONSEID                      MAINBRANCH                 AGE           EMPLOYMENT REMOTEWORK   CHECK                                   CODINGACTIVITIES                                            EDLEVEL                                          LEARNCODE                                    LEARNCODEONLINE                                            TECHDOC YEARSCODE YEARSCODEPRO                DEVTYPE ORGSIZE PURCHASEINFLUENCE BUYNEWTOOL BUILDVSBUY TECHENDORSE                                            COUNTRY CURRENCY  COMPTOTAL                             LANGUAGEHAVEWORKEDWITH                             LANGUAGEWANTTOWORKWITH                                    LANGUAGEADMIRED           DATABASEHAVEWORKEDWITH      DATABASEWANTTOWORKWITH             DATABASEADMIRED                    PLATFORMHAVEWORKEDWITH                    PLATFORMWANTTOWORKWITH                           PLATFORMADMIRED                  WEBFRAMEHAVEWORKEDWITH            WEBFRAMEWANTTOWORKWITH               WEBFRAMEADMIRED   EMBEDDEDHAVEWORKEDWITH EMBEDDEDWANTTOWORKWITH    EMBEDDEDADMIRED                           MISCTECHHAVEWORKEDWITH                           MISCTECHWANTTOWORKWITH                                  MISCTECHADMIRED                      TOOLSTECHHAVEWORKEDWITH                      TOOLSTECHWANTTOWORKWITH                             TOOLSTECHADMIRED         NEWCOLLABTOOLSHAVEWORKEDWITH         NEWCOLLABTOOLSWANTTOWORKWITH                NEWCOLLABTOOLSADMIRED         OPSYSPERSONALUSE OPSYSPROFESSIONALUSE                     OFFICESTACKASYNCHAVEWORKEDWITH             OFFICESTACKASYNCWANTTOWORKWITH                    OFFICESTACKASYNCADMIRED                 OFFICESTACKSYNCHAVEWORKEDWITH OFFICESTACKSYNCWANTTOWORKWITH        OFFICESTACKSYNCADMIRED AISEARCHDEVHAVEWORKEDWITH AISEARCHDEVWANTTOWORKWITH AISEARCHDEVADMIRED                                         NEWSOSITES             SOVISITFREQ SOACCOUNT              SOPARTFREQ                                              SOHOW           SOCOMM                 AISELECT          AISENT                                              AIBEN           AIACC                      AICOMPLEX                               AITOOLCURRENTLYUSING                            AITOOLINTERESTEDINUSING AITOOLNOTINTERESTEDINUSING                           AINEXTMUCHMOREINTEGRATED AINEXTNOCHANGE AINEXTMOREINTEGRATED AINEXTLESSINTEGRATED AINEXTMUCHLESSINTEGRATED AITHREAT                                           AIETHICS                       AICHALLENGES TBRANCH                  ICORPM  WORKEXP KNOWLEDGE_1 KNOWLEDGE_2 KNOWLEDGE_3 KNOWLEDGE_4 KNOWLEDGE_5                 KNOWLEDGE_6 KNOWLEDGE_7 KNOWLEDGE_8 KNOWLEDGE_9 FREQUENCY_1 FREQUENCY_2 FREQUENCY_3 TIMESEARCHING TIMEANSWERING FRUSTRATION PROFESSIONALTECH PROFESSIONALCLOUD PROFESSIONALQUESTION INDUSTRY  JOBSATPOINTS_1  JOBSATPOINTS_4  JOBSATPOINTS_5  JOBSATPOINTS_6  JOBSATPOINTS_7  JOBSATPOINTS_8  JOBSATPOINTS_9  JOBSATPOINTS_10  JOBSATPOINTS_11           SURVEYLENGTH SURVEYEASE  CONVERTEDCOMPYEARLY  JOBSAT\n",
      "0           1  I am a developer by profession  Under 18 years old  Employed, full-time     Remote  Apples                                              Hobby                          Primary/elementary school                             Books / Physical media                                                NaN                                                NaN       NaN          NaN                    NaN     NaN               NaN        NaN        NaN         NaN                           United States of America      NaN        NaN                                                NaN                                                NaN                                                NaN                              NaN                         NaN                         NaN                                       NaN                                       NaN                                       NaN                                     NaN                               NaN                           NaN                      NaN                    NaN                NaN                                              NaN                                              NaN                                              NaN                                          NaN                                          NaN                                          NaN                                  NaN                                  NaN                                  NaN                      NaN                  NaN                                                NaN                                        NaN                                        NaN                                           NaN                           NaN                           NaN                       NaN                       NaN                NaN  I have never visited Stack Overflow or the Sta...                     NaN       NaN                     NaN                                                NaN              NaN                      Yes  Very favorable                              Increase productivity             NaN                            NaN                                                NaN                                                NaN                        NaN                                                NaN            NaN                  NaN                  NaN                      NaN      NaN                                                NaN                                NaN      No                     NaN      NaN         NaN         NaN         NaN         NaN         NaN                         NaN         NaN         NaN         NaN         NaN         NaN         NaN           NaN           NaN         NaN              NaN               NaN                  NaN      NaN             NaN             NaN             NaN             NaN             NaN             NaN             NaN              NaN              NaN                    NaN        NaN                  NaN     NaN\n",
      "1           2  I am a developer by profession     35-44 years old  Employed, full-time     Remote  Apples  Hobby;Contribute to open-source projects;Other...       Bachelor’s degree (B.A., B.S., B.Eng., etc.)  Books / Physical media;Colleague;On the job tr...  Technical documentation;Blogs;Books;Written Tu...  API document(s) and/or SDK document(s);User gu...        20           17  Developer, full-stack     NaN               NaN        NaN        NaN         NaN  United Kingdom of Great Britain and Northern I...      NaN        NaN  Bash/Shell (all shells);Go;HTML/CSS;Java;JavaS...  Bash/Shell (all shells);Go;HTML/CSS;Java;JavaS...  Bash/Shell (all shells);Go;HTML/CSS;Java;JavaS...      Dynamodb;MongoDB;PostgreSQL                  PostgreSQL                  PostgreSQL  Amazon Web Services (AWS);Heroku;Netlify  Amazon Web Services (AWS);Heroku;Netlify  Amazon Web Services (AWS);Heroku;Netlify           Express;Next.js;Node.js;React  Express;Htmx;Node.js;React;Remix         Express;Node.js;React                      NaN                    NaN                NaN                                              NaN                                              NaN                                              NaN  Docker;Homebrew;Kubernetes;npm;Vite;Webpack  Docker;Homebrew;Kubernetes;npm;Vite;Webpack  Docker;Homebrew;Kubernetes;npm;Vite;Webpack  PyCharm;Visual Studio Code;WebStorm  PyCharm;Visual Studio Code;WebStorm  PyCharm;Visual Studio Code;WebStorm            MacOS;Windows                MacOS                                                NaN                                        NaN                                        NaN                         Microsoft Teams;Slack                         Slack                         Slack                       NaN                       NaN                NaN  Stack Overflow for Teams (private knowledge sh...  Multiple times per day       Yes  Multiple times per day  Quickly finding code solutions;Finding reliabl...  Yes, definitely  No, and I don't plan to             NaN                                                NaN             NaN                            NaN                                                NaN                                                NaN                        NaN                                                NaN            NaN                  NaN                  NaN                      NaN      NaN                                                NaN                                NaN     Yes  Individual contributor     17.0       Agree    Disagree       Agree       Agree       Agree  Neither agree nor disagree    Disagree       Agree       Agree         NaN         NaN         NaN           NaN           NaN         NaN              NaN               NaN                  NaN      NaN             0.0             0.0             0.0             0.0             0.0             0.0             0.0              0.0              0.0                    NaN        NaN                  NaN     NaN\n",
      "2           3  I am a developer by profession     45-54 years old  Employed, full-time     Remote  Apples  Hobby;Contribute to open-source projects;Other...    Master’s degree (M.A., M.S., M.Eng., MBA, etc.)  Books / Physical media;Colleague;On the job tr...  Technical documentation;Blogs;Books;Written Tu...  API document(s) and/or SDK document(s);User gu...        37           27   Developer Experience     NaN               NaN        NaN        NaN         NaN  United Kingdom of Great Britain and Northern I...      NaN        NaN                                                 C#                                                 C#                                                 C#       Firebase Realtime Database  Firebase Realtime Database  Firebase Realtime Database                              Google Cloud                              Google Cloud                              Google Cloud                            ASP.NET CORE                      ASP.NET CORE                  ASP.NET CORE              Rasberry Pi            Rasberry Pi        Rasberry Pi  .NET (5+) ;.NET Framework (1.0 - 4.8);.NET MAUI  .NET (5+) ;.NET Framework (1.0 - 4.8);.NET MAUI  .NET (5+) ;.NET Framework (1.0 - 4.8);.NET MAUI                                      MSBuild                                      MSBuild                                      MSBuild                        Visual Studio                        Visual Studio                        Visual Studio                  Windows              Windows                                                NaN                                        NaN                                        NaN  Google Chat;Google Meet;Microsoft Teams;Zoom  Google Chat;Google Meet;Zoom  Google Chat;Google Meet;Zoom                       NaN                       NaN                NaN  Stack Overflow;Stack Exchange;Stack Overflow B...  Multiple times per day       Yes  Multiple times per day  Quickly finding code solutions;Finding reliabl...  Yes, definitely  No, and I don't plan to             NaN                                                NaN             NaN                            NaN                                                NaN                                                NaN                        NaN                                                NaN            NaN                  NaN                  NaN                      NaN      NaN                                                NaN                                NaN      No                     NaN      NaN         NaN         NaN         NaN         NaN         NaN                         NaN         NaN         NaN         NaN         NaN         NaN         NaN           NaN           NaN         NaN              NaN               NaN                  NaN      NaN             NaN             NaN             NaN             NaN             NaN             NaN             NaN              NaN              NaN  Appropriate in length       Easy                  NaN     NaN\n",
      "3           4           I am learning to code     18-24 years old   Student, full-time        NaN  Apples                                                NaN  Some college/university study without earning ...  Other online resources (e.g., videos, blogs, f...  Stack Overflow;How-to videos;Interactive tutorial                                                NaN         4          NaN  Developer, full-stack     NaN               NaN        NaN        NaN         NaN                                             Canada      NaN        NaN  C;C++;HTML/CSS;Java;JavaScript;PHP;PowerShell;...  HTML/CSS;Java;JavaScript;PowerShell;Python;SQL...  HTML/CSS;Java;JavaScript;PowerShell;Python;SQL...  MongoDB;MySQL;PostgreSQL;SQLite    MongoDB;MySQL;PostgreSQL    MongoDB;MySQL;PostgreSQL   Amazon Web Services (AWS);Fly.io;Heroku          Amazon Web Services (AWS);Vercel                 Amazon Web Services (AWS)  jQuery;Next.js;Node.js;React;WordPress      jQuery;Next.js;Node.js;React  jQuery;Next.js;Node.js;React              Rasberry Pi                    NaN                NaN                     NumPy;Pandas;Ruff;TensorFlow                                              NaN                                              NaN                               Docker;npm;Pip                        Docker;Kubernetes;npm                                   Docker;npm                                  NaN                                  NaN                                  NaN                      NaN                  NaN                                                NaN                                        NaN                                        NaN                                           NaN                           NaN                           NaN                       NaN                       NaN                NaN                                     Stack Overflow   Daily or almost daily        No                     NaN                     Quickly finding code solutions   No, not really                      Yes  Very favorable  Increase productivity;Greater efficiency;Impro...  Somewhat trust  Bad at handling complex tasks  Learning about a codebase;Project planning;Wri...  Testing code;Committing and reviewing code;Pre...                        NaN  Learning about a codebase;Project planning;Wri...            NaN                  NaN                  NaN                      NaN       No  Circulating misinformation or disinformation;M...  Don’t trust the output or answers     NaN                     NaN      NaN         NaN         NaN         NaN         NaN         NaN                         NaN         NaN         NaN         NaN         NaN         NaN         NaN           NaN           NaN         NaN              NaN               NaN                  NaN      NaN             NaN             NaN             NaN             NaN             NaN             NaN             NaN              NaN              NaN               Too long       Easy                  NaN     NaN\n",
      "4           5  I am a developer by profession     18-24 years old   Student, full-time        NaN  Apples                                                NaN  Secondary school (e.g. American high school, G...  Other online resources (e.g., videos, blogs, f...  Technical documentation;Blogs;Written Tutorial...  API document(s) and/or SDK document(s);User gu...         9          NaN  Developer, full-stack     NaN               NaN        NaN        NaN         NaN                                             Norway      NaN        NaN            C++;HTML/CSS;JavaScript;Lua;Python;Rust                 C++;HTML/CSS;JavaScript;Lua;Python                 C++;HTML/CSS;JavaScript;Lua;Python                PostgreSQL;SQLite           PostgreSQL;SQLite           PostgreSQL;SQLite                                       NaN                                       NaN                                       NaN                                     NaN                               NaN                           NaN  CMake;Cargo;Rasberry Pi      CMake;Rasberry Pi  CMake;Rasberry Pi                                              NaN                                              NaN                                              NaN                                 APT;Make;npm                                     APT;Make                                     APT;Make                                  Vim                                  Vim                                  Vim  Other (please specify):                  NaN  GitHub Discussions;Markdown File;Obsidian;Stac...  GitHub Discussions;Markdown File;Obsidian  GitHub Discussions;Markdown File;Obsidian                              Discord;Whatsapp              Discord;Whatsapp              Discord;Whatsapp                       NaN                       NaN                NaN  Stack Overflow for Teams (private knowledge sh...  Multiple times per day       Yes  Multiple times per day  Quickly finding code solutions;Engage with com...  Yes, definitely  No, and I don't plan to             NaN                                                NaN             NaN                            NaN                                                NaN                                                NaN                        NaN                                                NaN            NaN                  NaN                  NaN                      NaN      NaN                                                NaN                                NaN     NaN                     NaN      NaN         NaN         NaN         NaN         NaN         NaN                         NaN         NaN         NaN         NaN         NaN         NaN         NaN           NaN           NaN         NaN              NaN               NaN                  NaN      NaN             NaN             NaN             NaN             NaN             NaN             NaN             NaN              NaN              NaN              Too short       Easy                  NaN     NaN\n"
     ]
    }
   ],
   "source": [
    "#converts column names to uppercase and removes spacing\n",
    "odf_2024.columns = odf_2024.columns.str.upper().str.replace(\" \", \"\")\n",
    "odf_2023.columns = odf_2023.columns.str.upper().str.replace(\" \", \"\")\n",
    "odf_2022.columns = odf_2022.columns.str.upper().str.replace(\" \", \"\")\n",
    "\n",
    "#prints all rows\n",
    "with pd.option_context('display.max_columns', None,\n",
    "                       'display.max_rows', None,\n",
    "                       'display.width', 6000):\n",
    "    print(odf_2024.head())"
   ]
  },
  {
   "cell_type": "code",
   "execution_count": 21,
   "metadata": {},
   "outputs": [
    {
     "name": "stdout",
     "output_type": "stream",
     "text": [
      "odf_2024 rows before dropping bots: 65437\n",
      "odf_2024 rows after dropping bots: 65437\n",
      "\n",
      "Combined DataFrame shape: (227889, 63)\n",
      "                                             EDLEVEL                  ICORPM                                   CODINGACTIVITIES  RESPONSEID BUYNEWTOOL FREQUENCY_1 PURCHASEINFLUENCE                 OFFICESTACKSYNCHAVEWORKEDWITH           SOCOMM                           MISCTECHHAVEWORKEDWITH  WORKEXP KNOWLEDGE_2 KNOWLEDGE_1 KNOWLEDGE_3                      TOOLSTECHHAVEWORKEDWITH                 KNOWLEDGE_6 KNOWLEDGE_7         OPSYSPERSONALUSE                DEVTYPE KNOWLEDGE_4           EMPLOYMENT                                    LEARNCODEONLINE SURVEYEASE OFFICESTACKSYNCWANTTOWORKWITH                                         NEWSOSITES                             LANGUAGEHAVEWORKEDWITH                 AGE                      MAINBRANCH FREQUENCY_2            WEBFRAMEWANTTOWORKWITH  COMPTOTAL                  WEBFRAMEHAVEWORKEDWITH SOACCOUNT ORGSIZE FREQUENCY_3                           MISCTECHWANTTOWORKWITH TIMESEARCHING             OFFICESTACKASYNCWANTTOWORKWITH           SURVEYLENGTH YEARSCODEPRO             SOVISITFREQ TIMEANSWERING                                          LEARNCODE                      TOOLSTECHWANTTOWORKWITH         NEWCOLLABTOOLSWANTTOWORKWITH YEARSCODE OPSYSPROFESSIONALUSE              SOPARTFREQ REMOTEWORK TBRANCH  CONVERTEDCOMPYEARLY           DATABASEHAVEWORKEDWITH                                            COUNTRY         NEWCOLLABTOOLSHAVEWORKEDWITH                     OFFICESTACKASYNCHAVEWORKEDWITH KNOWLEDGE_5 PROFESSIONALTECH      DATABASEWANTTOWORKWITH                    PLATFORMWANTTOWORKWITH                             LANGUAGEWANTTOWORKWITH CURRENCY                    PLATFORMHAVEWORKEDWITH  year\n",
      "0                          Primary/elementary school                     NaN                                              Hobby           1        NaN         NaN               NaN                                           NaN              NaN                                              NaN      NaN         NaN         NaN         NaN                                          NaN                         NaN         NaN                      NaN                    NaN         NaN  Employed, full-time                                                NaN        NaN                           NaN  I have never visited Stack Overflow or the Sta...                                                NaN  Under 18 years old  I am a developer by profession         NaN                               NaN        NaN                                     NaN       NaN     NaN         NaN                                              NaN           NaN                                        NaN                    NaN          NaN                     NaN           NaN                             Books / Physical media                                          NaN                                  NaN       NaN                  NaN                     NaN     Remote      No                  NaN                              NaN                           United States of America                                  NaN                                                NaN         NaN              NaN                         NaN                                       NaN                                                NaN      NaN                                       NaN  2024\n",
      "1       Bachelor’s degree (B.A., B.S., B.Eng., etc.)  Individual contributor  Hobby;Contribute to open-source projects;Other...           2        NaN         NaN               NaN                         Microsoft Teams;Slack  Yes, definitely                                              NaN     17.0    Disagree       Agree       Agree  Docker;Homebrew;Kubernetes;npm;Vite;Webpack  Neither agree nor disagree    Disagree            MacOS;Windows  Developer, full-stack       Agree  Employed, full-time  Technical documentation;Blogs;Books;Written Tu...        NaN                         Slack  Stack Overflow for Teams (private knowledge sh...  Bash/Shell (all shells);Go;HTML/CSS;Java;JavaS...     35-44 years old  I am a developer by profession         NaN  Express;Htmx;Node.js;React;Remix        NaN           Express;Next.js;Node.js;React       Yes     NaN         NaN                                              NaN           NaN                                        NaN                    NaN           17  Multiple times per day           NaN  Books / Physical media;Colleague;On the job tr...  Docker;Homebrew;Kubernetes;npm;Vite;Webpack  PyCharm;Visual Studio Code;WebStorm        20                MacOS  Multiple times per day     Remote     Yes                  NaN      Dynamodb;MongoDB;PostgreSQL  United Kingdom of Great Britain and Northern I...  PyCharm;Visual Studio Code;WebStorm                                                NaN       Agree              NaN                  PostgreSQL  Amazon Web Services (AWS);Heroku;Netlify  Bash/Shell (all shells);Go;HTML/CSS;Java;JavaS...      NaN  Amazon Web Services (AWS);Heroku;Netlify  2024\n",
      "2    Master’s degree (M.A., M.S., M.Eng., MBA, etc.)                     NaN  Hobby;Contribute to open-source projects;Other...           3        NaN         NaN               NaN  Google Chat;Google Meet;Microsoft Teams;Zoom  Yes, definitely  .NET (5+) ;.NET Framework (1.0 - 4.8);.NET MAUI      NaN         NaN         NaN         NaN                                      MSBuild                         NaN         NaN                  Windows   Developer Experience         NaN  Employed, full-time  Technical documentation;Blogs;Books;Written Tu...       Easy  Google Chat;Google Meet;Zoom  Stack Overflow;Stack Exchange;Stack Overflow B...                                                 C#     45-54 years old  I am a developer by profession         NaN                      ASP.NET CORE        NaN                            ASP.NET CORE       Yes     NaN         NaN  .NET (5+) ;.NET Framework (1.0 - 4.8);.NET MAUI           NaN                                        NaN  Appropriate in length           27  Multiple times per day           NaN  Books / Physical media;Colleague;On the job tr...                                      MSBuild                        Visual Studio        37              Windows  Multiple times per day     Remote      No                  NaN       Firebase Realtime Database  United Kingdom of Great Britain and Northern I...                        Visual Studio                                                NaN         NaN              NaN  Firebase Realtime Database                              Google Cloud                                                 C#      NaN                              Google Cloud  2024\n",
      "3  Some college/university study without earning ...                     NaN                                                NaN           4        NaN         NaN               NaN                                           NaN   No, not really                     NumPy;Pandas;Ruff;TensorFlow      NaN         NaN         NaN         NaN                               Docker;npm;Pip                         NaN         NaN                      NaN  Developer, full-stack         NaN   Student, full-time  Stack Overflow;How-to videos;Interactive tutorial       Easy                           NaN                                     Stack Overflow  C;C++;HTML/CSS;Java;JavaScript;PHP;PowerShell;...     18-24 years old           I am learning to code         NaN      jQuery;Next.js;Node.js;React        NaN  jQuery;Next.js;Node.js;React;WordPress        No     NaN         NaN                                              NaN           NaN                                        NaN               Too long          NaN   Daily or almost daily           NaN  Other online resources (e.g., videos, blogs, f...                        Docker;Kubernetes;npm                                  NaN         4                  NaN                     NaN        NaN     NaN                  NaN  MongoDB;MySQL;PostgreSQL;SQLite                                             Canada                                  NaN                                                NaN         NaN              NaN    MongoDB;MySQL;PostgreSQL          Amazon Web Services (AWS);Vercel  HTML/CSS;Java;JavaScript;PowerShell;Python;SQL...      NaN   Amazon Web Services (AWS);Fly.io;Heroku  2024\n",
      "4  Secondary school (e.g. American high school, G...                     NaN                                                NaN           5        NaN         NaN               NaN                              Discord;Whatsapp  Yes, definitely                                              NaN      NaN         NaN         NaN         NaN                                 APT;Make;npm                         NaN         NaN  Other (please specify):  Developer, full-stack         NaN   Student, full-time  Technical documentation;Blogs;Written Tutorial...       Easy              Discord;Whatsapp  Stack Overflow for Teams (private knowledge sh...            C++;HTML/CSS;JavaScript;Lua;Python;Rust     18-24 years old  I am a developer by profession         NaN                               NaN        NaN                                     NaN       Yes     NaN         NaN                                              NaN           NaN  GitHub Discussions;Markdown File;Obsidian              Too short          NaN  Multiple times per day           NaN  Other online resources (e.g., videos, blogs, f...                                     APT;Make                                  Vim         9                  NaN  Multiple times per day        NaN     NaN                  NaN                PostgreSQL;SQLite                                             Norway                                  Vim  GitHub Discussions;Markdown File;Obsidian;Stac...         NaN              NaN           PostgreSQL;SQLite                                       NaN                 C++;HTML/CSS;JavaScript;Lua;Python      NaN                                       NaN  2024\n"
     ]
    }
   ],
   "source": [
    "#drop all cols from odf_2024 that didn't select Apples (only survey to check for bots)\n",
    "print(f'odf_2024 rows before dropping bots: {odf_2024.shape[0]}')\n",
    "odf_2024 = odf_2024[odf_2024['CHECK'] == 'Apples']\n",
    "print(f'odf_2024 rows after dropping bots: {odf_2024.shape[0]}\\n')\n",
    "\n",
    "#finds common column names across all dfs\n",
    "common_cols = set(odf_2024.columns).intersection(odf_2023.columns).intersection(odf_2022.columns)\n",
    "\n",
    "#creates copies of dfs\n",
    "df_2024 = odf_2024[list(common_cols)].copy()\n",
    "df_2023 = odf_2023[list(common_cols)].copy()\n",
    "df_2022 = odf_2022[list(common_cols)].copy()\n",
    "\n",
    "#adds a year column to all dfs\n",
    "df_2024[\"year\"] = 2024\n",
    "df_2023[\"year\"] = 2023\n",
    "df_2022[\"year\"] = 2022\n",
    "\n",
    "#combined the common columns of the dfs\n",
    "combined_df = pd.concat([df_2024, df_2023, df_2022], ignore_index=True)\n",
    "\n",
    "#prints shape and all rows\n",
    "print(f\"Combined DataFrame shape: {combined_df.shape}\")\n",
    "with pd.option_context('display.max_columns', None,\n",
    "                       'display.max_rows', None,\n",
    "                       'display.width', 6000):\n",
    "    print(combined_df.head())"
   ]
  },
  {
   "cell_type": "markdown",
   "metadata": {},
   "source": [
    "**Job Satisfaction Data Exploration**"
   ]
  },
  {
   "cell_type": "code",
   "execution_count": 19,
   "metadata": {},
   "outputs": [
    {
     "name": "stdout",
     "output_type": "stream",
     "text": [
      "['RESPONSEID', 'MAINBRANCH', 'AGE', 'EMPLOYMENT', 'REMOTEWORK', 'CHECK', 'CODINGACTIVITIES', 'EDLEVEL', 'LEARNCODE', 'LEARNCODEONLINE', 'TECHDOC', 'YEARSCODE', 'YEARSCODEPRO', 'DEVTYPE', 'ORGSIZE', 'PURCHASEINFLUENCE', 'BUYNEWTOOL', 'BUILDVSBUY', 'TECHENDORSE', 'COUNTRY', 'CURRENCY', 'COMPTOTAL', 'LANGUAGEHAVEWORKEDWITH', 'LANGUAGEWANTTOWORKWITH', 'LANGUAGEADMIRED', 'DATABASEHAVEWORKEDWITH', 'DATABASEWANTTOWORKWITH', 'DATABASEADMIRED', 'PLATFORMHAVEWORKEDWITH', 'PLATFORMWANTTOWORKWITH', 'PLATFORMADMIRED', 'WEBFRAMEHAVEWORKEDWITH', 'WEBFRAMEWANTTOWORKWITH', 'WEBFRAMEADMIRED', 'EMBEDDEDHAVEWORKEDWITH', 'EMBEDDEDWANTTOWORKWITH', 'EMBEDDEDADMIRED', 'MISCTECHHAVEWORKEDWITH', 'MISCTECHWANTTOWORKWITH', 'MISCTECHADMIRED', 'TOOLSTECHHAVEWORKEDWITH', 'TOOLSTECHWANTTOWORKWITH', 'TOOLSTECHADMIRED', 'NEWCOLLABTOOLSHAVEWORKEDWITH', 'NEWCOLLABTOOLSWANTTOWORKWITH', 'NEWCOLLABTOOLSADMIRED', 'OPSYSPERSONALUSE', 'OPSYSPROFESSIONALUSE', 'OFFICESTACKASYNCHAVEWORKEDWITH', 'OFFICESTACKASYNCWANTTOWORKWITH', 'OFFICESTACKASYNCADMIRED', 'OFFICESTACKSYNCHAVEWORKEDWITH', 'OFFICESTACKSYNCWANTTOWORKWITH', 'OFFICESTACKSYNCADMIRED', 'AISEARCHDEVHAVEWORKEDWITH', 'AISEARCHDEVWANTTOWORKWITH', 'AISEARCHDEVADMIRED', 'NEWSOSITES', 'SOVISITFREQ', 'SOACCOUNT', 'SOPARTFREQ', 'SOHOW', 'SOCOMM', 'AISELECT', 'AISENT', 'AIBEN', 'AIACC', 'AICOMPLEX', 'AITOOLCURRENTLYUSING', 'AITOOLINTERESTEDINUSING', 'AITOOLNOTINTERESTEDINUSING', 'AINEXTMUCHMOREINTEGRATED', 'AINEXTNOCHANGE', 'AINEXTMOREINTEGRATED', 'AINEXTLESSINTEGRATED', 'AINEXTMUCHLESSINTEGRATED', 'AITHREAT', 'AIETHICS', 'AICHALLENGES', 'TBRANCH', 'ICORPM', 'WORKEXP', 'KNOWLEDGE_1', 'KNOWLEDGE_2', 'KNOWLEDGE_3', 'KNOWLEDGE_4', 'KNOWLEDGE_5', 'KNOWLEDGE_6', 'KNOWLEDGE_7', 'KNOWLEDGE_8', 'KNOWLEDGE_9', 'FREQUENCY_1', 'FREQUENCY_2', 'FREQUENCY_3', 'TIMESEARCHING', 'TIMEANSWERING', 'FRUSTRATION', 'PROFESSIONALTECH', 'PROFESSIONALCLOUD', 'PROFESSIONALQUESTION', 'INDUSTRY', 'JOBSATPOINTS_1', 'JOBSATPOINTS_4', 'JOBSATPOINTS_5', 'JOBSATPOINTS_6', 'JOBSATPOINTS_7', 'JOBSATPOINTS_8', 'JOBSATPOINTS_9', 'JOBSATPOINTS_10', 'JOBSATPOINTS_11', 'SURVEYLENGTH', 'SURVEYEASE', 'CONVERTEDCOMPYEARLY', 'JOBSAT']\n"
     ]
    }
   ],
   "source": [
    "#show all columns\n",
    "print(list(odf_2024.columns))"
   ]
  },
  {
   "cell_type": "code",
   "execution_count": null,
   "metadata": {},
   "outputs": [],
   "source": []
  }
 ],
 "metadata": {
  "kernelspec": {
   "display_name": "Python 3",
   "language": "python",
   "name": "python3"
  },
  "language_info": {
   "codemirror_mode": {
    "name": "ipython",
    "version": 3
   },
   "file_extension": ".py",
   "mimetype": "text/x-python",
   "name": "python",
   "nbconvert_exporter": "python",
   "pygments_lexer": "ipython3",
   "version": "3.12.9"
  }
 },
 "nbformat": 4,
 "nbformat_minor": 2
}
